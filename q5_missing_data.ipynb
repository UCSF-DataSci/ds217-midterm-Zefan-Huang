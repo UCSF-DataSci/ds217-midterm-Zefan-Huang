{
 "cells": [
  {
   "cell_type": "markdown",
   "metadata": {},
   "source": [
    "# Assignment 5, Question 5: Missing Data Analysis\n",
    "\n",
    "**Points: 15**\n",
    "\n",
    "Apply and compare different missing data strategies on the clinical trial dataset."
   ]
  },
  {
   "cell_type": "markdown",
   "metadata": {},
   "source": [
    "## Setup"
   ]
  },
  {
   "cell_type": "code",
   "execution_count": 1,
   "metadata": {},
   "outputs": [
    {
     "name": "stdout",
     "output_type": "stream",
     "text": [
      "Loaded 10000 patients\n"
     ]
    }
   ],
   "source": [
    "import pandas as pd\n",
    "import numpy as np\n",
    "import matplotlib.pyplot as plt\n",
    "\n",
    "# Import utilities from Q3\n",
    "from q3_data_utils import load_data, detect_missing, fill_missing\n",
    "\n",
    "# Load the data\n",
    "df = load_data('data/clinical_trial_raw.csv')\n",
    "print(f\"Loaded {len(df)} patients\")\n",
    "\n",
    "# Prewritten visualization function for missing data\n",
    "def visualize_missing_data(missing_counts):\n",
    "    \"\"\"\n",
    "    Create a bar chart of missing values by column.\n",
    "    \n",
    "    Args:\n",
    "        missing_counts: pandas Series with missing value counts per column\n",
    "    \"\"\"\n",
    "    plt.figure(figsize=(10, 6))\n",
    "    missing_counts.plot(kind='bar')\n",
    "    plt.title('Missing Values by Column')\n",
    "    plt.xticks(rotation=45)\n",
    "    plt.ylabel('Number of Missing Values')\n",
    "    plt.tight_layout()\n",
    "    plt.show()"
   ]
  },
  {
   "cell_type": "markdown",
   "metadata": {},
   "source": [
    "## Part 1: Detect Missing Data (3 points)\n",
    "\n",
    "1. Use the `detect_missing()` utility to find missing values\n",
    "2. Visualize missing data with a bar plot\n",
    "3. Calculate the percentage of missing values per column"
   ]
  },
  {
   "cell_type": "code",
   "execution_count": 3,
   "metadata": {},
   "outputs": [
    {
     "name": "stdout",
     "output_type": "stream",
     "text": [
      "Missing Value Counts: patient_id               0\n",
      "age                      0\n",
      "sex                      0\n",
      "bmi                    438\n",
      "enrollment_date          0\n",
      "systolic_bp            414\n",
      "diastolic_bp           414\n",
      "cholesterol_total      554\n",
      "cholesterol_hdl        554\n",
      "cholesterol_ldl        554\n",
      "glucose_fasting        369\n",
      "site                     0\n",
      "intervention_group       0\n",
      "follow_up_months         0\n",
      "adverse_events           0\n",
      "outcome_cvd              0\n",
      "adherence_pct         1467\n",
      "dropout                  0\n",
      "dtype: int64\n",
      "Missing Value Percentages (%): patient_id             0.00\n",
      "age                    0.00\n",
      "sex                    0.00\n",
      "bmi                    4.38\n",
      "enrollment_date        0.00\n",
      "systolic_bp            4.14\n",
      "diastolic_bp           4.14\n",
      "cholesterol_total      5.54\n",
      "cholesterol_hdl        5.54\n",
      "cholesterol_ldl        5.54\n",
      "glucose_fasting        3.69\n",
      "site                   0.00\n",
      "intervention_group     0.00\n",
      "follow_up_months       0.00\n",
      "adverse_events         0.00\n",
      "outcome_cvd            0.00\n",
      "adherence_pct         14.67\n",
      "dropout                0.00\n",
      "dtype: float64\n",
      "Columns with missing data: ['bmi', 'systolic_bp', 'diastolic_bp', 'cholesterol_total', 'cholesterol_hdl', 'cholesterol_ldl', 'glucose_fasting', 'adherence_pct']\n"
     ]
    }
   ],
   "source": [
    "# TODO: Detect and analyze missing data\n",
    "# 1. Use detect_missing(df) to get missing value counts\n",
    "# 2. Calculate percentage of missing values per column  \n",
    "# 3. Print both counts and percentages\n",
    "# 4. Identify which columns have missing data\n",
    "missing_counts = detect_missing(df)\n",
    "missing_percent = (missing_counts / len(df)) * 100\n",
    "print(\"Missing Value Counts:\", missing_counts)\n",
    "print(\"Missing Value Percentages (%):\", missing_percent)\n",
    "columns_with_missing = missing_counts[missing_counts > 0].index.tolist()\n",
    "print(\"Columns with missing data:\", columns_with_missing)\n",
    "# Optional: Use the visualization function above to create a bar chart\n",
    "# visualize_missing_data(missing_counts)\n"
   ]
  },
  {
   "cell_type": "markdown",
   "metadata": {},
   "source": [
    "## Part 2: Compare Imputation Strategies (6 points)\n",
    "\n",
    "For the 'cholesterol_total' column (which has missing values):\n",
    "\n",
    "1. Fill with mean using `fill_missing()` utility\n",
    "2. Fill with median using `fill_missing()` utility  \n",
    "3. Forward fill using pandas `.fillna(method='ffill')`\n",
    "4. Compare the three strategies - create a summary table showing:\n",
    "   - Original mean/median\n",
    "   - Mean/median after each strategy\n",
    "   - How many values were filled"
   ]
  },
  {
   "cell_type": "code",
   "execution_count": 16,
   "metadata": {},
   "outputs": [
    {
     "name": "stderr",
     "output_type": "stream",
     "text": [
      "/Users/zefanhuang/Downloads/217/ds217-midterm-Zefan-Huang/q3_data_utils.py:94: FutureWarning: Series.fillna with 'method' is deprecated and will raise in a future version. Use obj.ffill() or obj.bfill() instead.\n",
      "  df[column] = df[column].fillna(method='ffill')\n"
     ]
    },
    {
     "data": {
      "text/html": [
       "<div>\n",
       "<style scoped>\n",
       "    .dataframe tbody tr th:only-of-type {\n",
       "        vertical-align: middle;\n",
       "    }\n",
       "\n",
       "    .dataframe tbody tr th {\n",
       "        vertical-align: top;\n",
       "    }\n",
       "\n",
       "    .dataframe thead th {\n",
       "        text-align: right;\n",
       "    }\n",
       "</style>\n",
       "<table border=\"1\" class=\"dataframe\">\n",
       "  <thead>\n",
       "    <tr style=\"text-align: right;\">\n",
       "      <th></th>\n",
       "      <th>strategy</th>\n",
       "      <th>Mean</th>\n",
       "      <th>Median</th>\n",
       "      <th>Value Filled</th>\n",
       "    </tr>\n",
       "  </thead>\n",
       "  <tbody>\n",
       "    <tr>\n",
       "      <th>0</th>\n",
       "      <td>Original</td>\n",
       "      <td>178.039488</td>\n",
       "      <td>178.039488</td>\n",
       "      <td>0</td>\n",
       "    </tr>\n",
       "    <tr>\n",
       "      <th>1</th>\n",
       "      <td>mean</td>\n",
       "      <td>178.039488</td>\n",
       "      <td>178.039488</td>\n",
       "      <td>0</td>\n",
       "    </tr>\n",
       "    <tr>\n",
       "      <th>2</th>\n",
       "      <td>median</td>\n",
       "      <td>178.039488</td>\n",
       "      <td>178.039488</td>\n",
       "      <td>0</td>\n",
       "    </tr>\n",
       "    <tr>\n",
       "      <th>3</th>\n",
       "      <td>forward_fill</td>\n",
       "      <td>178.039488</td>\n",
       "      <td>178.039488</td>\n",
       "      <td>0</td>\n",
       "    </tr>\n",
       "  </tbody>\n",
       "</table>\n",
       "</div>"
      ],
      "text/plain": [
       "       strategy        Mean      Median  Value Filled\n",
       "0      Original  178.039488  178.039488             0\n",
       "1          mean  178.039488  178.039488             0\n",
       "2        median  178.039488  178.039488             0\n",
       "3  forward_fill  178.039488  178.039488             0"
      ]
     },
     "execution_count": 16,
     "metadata": {},
     "output_type": "execute_result"
    }
   ],
   "source": [
    "# TODO: Compare imputation strategies\n",
    "df = load_data('data/clinical_trial_raw.csv') \n",
    "fill_mean = fill_missing(df, 'cholesterol_total',strategy='mean')\n",
    "fill_median = fill_missing(df, 'cholesterol_total',strategy='median')\n",
    "forward_fill = fill_missing(df, 'cholesterol_total',strategy='ffill')\n",
    "original_missing = df['cholesterol_total'].isna().sum()\n",
    "table = pd.DataFrame({\n",
    "    \"strategy\": ['Original', 'mean', 'median', 'forward_fill'],\n",
    "    'Mean': [df['cholesterol_total'].mean(),\n",
    "             fill_mean['cholesterol_total'].mean(),\n",
    "             fill_median['cholesterol_total'].mean(),\n",
    "             forward_fill['cholesterol_total'].mean()],\n",
    "    'Median': [df['cholesterol_total'].median(),\n",
    "                fill_mean['cholesterol_total'].median(),\n",
    "                fill_median['cholesterol_total'].median(),\n",
    "                forward_fill['cholesterol_total'].median()],\n",
    "    'Value Filled': [0,\n",
    "                     original_missing - fill_mean['cholesterol_total'].isna().sum(),\n",
    "                     original_missing - fill_median['cholesterol_total'].isna().sum(),\n",
    "                     original_missing - forward_fill['cholesterol_total'].isna().sum()]\n",
    "})\n",
    "table\n"
   ]
  },
  {
   "cell_type": "markdown",
   "metadata": {},
   "source": [
    "## Part 3: Dropping Missing Data (3 points)\n",
    "\n",
    "1. Drop rows where ANY column has missing data - how many rows remain?\n",
    "2. Drop rows where specific columns have missing data (e.g., only 'age' or 'bmi')\n",
    "3. Which approach loses less data?"
   ]
  },
  {
   "cell_type": "code",
   "execution_count": 20,
   "metadata": {},
   "outputs": [
    {
     "name": "stdout",
     "output_type": "stream",
     "text": [
      "Dropping specific columns loses less data (more rows retained).\n"
     ]
    }
   ],
   "source": [
    "# TODO: Drop missing rows with different strategies\n",
    "drop_any = df.dropna()\n",
    "rows_remined_any = len(drop_any)\n",
    "\n",
    "df_drop_specific = df.dropna(subset=['bmi'])\n",
    "rows_remaining_specific = len(df_drop_specific)\n",
    "\n",
    "if rows_remaining_specific > rows_remined_any:\n",
    "    print(\"Dropping specific columns loses less data (more rows retained).\")\n",
    "else:\n",
    "    print(\"Dropping any missing loses less or equal data.\")"
   ]
  },
  {
   "cell_type": "markdown",
   "metadata": {},
   "source": [
    "## Part 4: Create Clean Dataset (3 points)\n",
    "\n",
    "Apply your chosen strategy to create a clean dataset:\n",
    "1. Choose appropriate imputation for numeric columns\n",
    "2. Drop rows with missing critical values (e.g., patient_id, age)\n",
    "3. Save to `output/q5_cleaned_data.csv`\n",
    "4. Save a missing data report to `output/q5_missing_report.txt`"
   ]
  },
  {
   "cell_type": "code",
   "execution_count": 22,
   "metadata": {},
   "outputs": [],
   "source": [
    "# TODO: Create and save clean dataset\n",
    "df = fill_missing(df, 'bmi', strategy='median')\n",
    "df = fill_missing(df, 'systolic_bp', strategy='mean')\n",
    "df = fill_missing(df, 'diastolic_bp', strategy='mean')\n",
    "df = fill_missing(df, 'cholesterol_total', strategy='median')\n",
    "df = fill_missing(df, 'cholesterol_hdl', strategy='median')\n",
    "df = fill_missing(df, 'cholesterol_ldl', strategy='median')\n",
    "df = fill_missing(df, 'glucose_fasting', strategy='median')\n",
    "df = fill_missing(df, 'adherence_pct', strategy='mean')\n",
    "\n",
    "df = df.dropna(subset=['patient_id', 'age'])\n",
    "\n",
    "df.to_csv('output/clinical_trial_clean.csv', index=False)\n",
    "df.isna().sum().to_csv('output/q5_missing_report.txt', header=['MissingCount'])\n"
   ]
  },
  {
   "cell_type": "markdown",
   "metadata": {},
   "source": [
    "## Reflection\n",
    "\n",
    "Which imputation strategy would you recommend for this dataset and why?\n",
    "Each numeric column was imputed using the most appropriate strategy based on its distribution: median for skewed clinical measures (BMI, cholesterol, glucose) and mean for approximately normal measures (blood pressure, adherence)."
   ]
  },
  {
   "cell_type": "markdown",
   "metadata": {},
   "source": [
    "**Your answer:**\n",
    "\n",
    "TODO: Explain your strategy choice\n"
   ]
  }
 ],
 "metadata": {
  "kernelspec": {
   "display_name": ".venv",
   "language": "python",
   "name": "python3"
  },
  "language_info": {
   "codemirror_mode": {
    "name": "ipython",
    "version": 3
   },
   "file_extension": ".py",
   "mimetype": "text/x-python",
   "name": "python",
   "nbconvert_exporter": "python",
   "pygments_lexer": "ipython3",
   "version": "3.13.7"
  }
 },
 "nbformat": 4,
 "nbformat_minor": 2
}
